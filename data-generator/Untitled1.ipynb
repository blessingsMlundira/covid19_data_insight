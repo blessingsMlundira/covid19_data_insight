{
 "cells": [
  {
   "cell_type": "markdown",
   "id": "31cc5eae",
   "metadata": {},
   "source": [
    "This code will:\n",
    "\n",
    "Load the COVID-19 data from the CSV file.\n",
    "Convert the 'date' column to datetime format.\n",
    "Display the first few rows of the dataframe and basic statistics.\n",
    "Calculate and print the total cases, deaths, and recoveries.\n",
    "Plot daily new cases, deaths, and recoveries using line plots.\n",
    "Display a correlation matrix and its heatmap.\n",
    "Calculate and plot weekly averages for new cases, deaths, and recoveries."
   ]
  },
  {
   "cell_type": "code",
   "execution_count": 6,
   "id": "daa63b50",
   "metadata": {},
   "outputs": [
    {
     "name": "stdout",
     "output_type": "stream",
     "text": [
      "                              PatientID  Age  Gender  \\\n",
      "0  4ed8c3e8-7f34-4035-bfd8-722ada31a4f1   37   Other   \n",
      "1  7c955579-cffe-40b1-bbd7-2e09e64a6738   59   Other   \n",
      "2  bf147208-a9b8-44d1-a543-02d27e51bef1   74    Male   \n",
      "3  85e8b0f8-b7f9-4fe4-a872-d63b976293ab   96    Male   \n",
      "4  4de243af-3a38-4bb7-a5e6-f08068716e87   14  Female   \n",
      "\n",
      "                                     Symptoms TestResult  Hospitalized  \\\n",
      "0                        Loss of smell, Cough   Positive          True   \n",
      "1          Shortness of breath, Loss of smell   Positive         False   \n",
      "2  Fever, Shortness of breath, Fatigue, Cough   Negative          True   \n",
      "3                                     Fatigue   Positive         False   \n",
      "4                                       Fever   Positive         False   \n",
      "\n",
      "   Recovered  DateTested       date  \n",
      "0       True  2020-03-11 2020-03-11  \n",
      "1      False  2022-12-11 2022-12-11  \n",
      "2      False  2023-06-18 2023-06-18  \n",
      "3       True  2021-05-22 2021-05-22  \n",
      "4      False  2020-08-27 2020-08-27  \n"
     ]
    }
   ],
   "source": [
    "import pandas as pd\n",
    "import matplotlib.pyplot as plt\n",
    "import seaborn as sns\n",
    "\n",
    "# Load the generated COVID-19 data\n",
    "data = pd.read_csv('covid19_sample_data.csv')\n",
    "\n",
    "# Convert the 'date' column to datetime format\n",
    "data['date'] = pd.to_datetime(data['DateTested'])\n",
    "\n",
    "# Display the first few rows of the dataframe\n",
    "print(data.head())\n",
    "\n"
   ]
  },
  {
   "cell_type": "code",
   "execution_count": 7,
   "id": "b65c1c94",
   "metadata": {},
   "outputs": [
    {
     "name": "stdout",
     "output_type": "stream",
     "text": [
      "\n",
      "Basic Statistics:\n",
      "\n",
      "               Age\n",
      "count  1000.000000\n",
      "mean     48.530000\n",
      "std      29.162468\n",
      "min       0.000000\n",
      "25%      22.000000\n",
      "50%      47.000000\n",
      "75%      73.000000\n",
      "max     100.000000\n"
     ]
    }
   ],
   "source": [
    "# Basic Statistics\n",
    "print(\"\\nBasic Statistics:\\n\")\n",
    "print(data.describe())\n"
   ]
  },
  {
   "cell_type": "code",
   "execution_count": null,
   "id": "ce73f055",
   "metadata": {},
   "outputs": [],
   "source": [
    "# Total cases, deaths, and recoveries\n",
    "total_cases = data['new_cases'].sum()\n",
    "total_deaths = data['new_deaths'].sum()\n",
    "total_recoveries = data['new_recoveries'].sum()\n",
    "\n",
    "print(\"\\nTotal Cases:\", total_cases)\n",
    "print(\"Total Deaths:\", total_deaths)\n",
    "print(\"Total Recoveries:\", total_recoveries)\n",
    "\n"
   ]
  },
  {
   "cell_type": "code",
   "execution_count": null,
   "id": "1fba083e",
   "metadata": {},
   "outputs": [],
   "source": [
    "# Plotting the data\n",
    "plt.figure(figsize=(14, 7))\n",
    "\n"
   ]
  },
  {
   "cell_type": "code",
   "execution_count": null,
   "id": "4a91cb41",
   "metadata": {},
   "outputs": [],
   "source": [
    "# Time series plot for new cases\n",
    "plt.subplot(3, 1, 1)\n",
    "sns.lineplot(x='date', y='new_cases', data=data, color='blue')\n",
    "plt.title('Daily New COVID-19 Cases')\n",
    "plt.xlabel('')\n",
    "plt.ylabel('New Cases')\n"
   ]
  },
  {
   "cell_type": "code",
   "execution_count": null,
   "id": "4cf8b37a",
   "metadata": {},
   "outputs": [],
   "source": [
    "# Time series plot for new deaths\n",
    "plt.subplot(3, 1, 2)\n",
    "sns.lineplot(x='date', y='new_deaths', data=data, color='red')\n",
    "plt.title('Daily New COVID-19 Deaths')\n",
    "plt.xlabel('')\n",
    "plt.ylabel('New Deaths')\n",
    "\n"
   ]
  },
  {
   "cell_type": "code",
   "execution_count": null,
   "id": "52b6a6c5",
   "metadata": {},
   "outputs": [],
   "source": [
    "# Time series plot for new recoveries\n",
    "plt.subplot(3, 1, 3)\n",
    "sns.lineplot(x='date', y='new_recoveries', data=data, color='green')\n",
    "plt.title('Daily New COVID-19 Recoveries')\n",
    "plt.xlabel('Date')\n",
    "plt.ylabel('New Recoveries')\n",
    "\n",
    "plt.tight_layout()\n",
    "plt.show()\n",
    "\n"
   ]
  },
  {
   "cell_type": "code",
   "execution_count": null,
   "id": "83d495d3",
   "metadata": {},
   "outputs": [],
   "source": [
    "# Correlation Analysis\n",
    "correlation_matrix = data[['new_cases', 'new_deaths', 'new_recoveries']].corr()\n",
    "print(\"\\nCorrelation Matrix:\\n\", correlation_matrix)\n",
    "\n",
    "# Heatmap of the correlation matrix\n",
    "plt.figure(figsize=(8, 6))\n",
    "sns.heatmap(correlation_matrix, annot=True, cmap='coolwarm', vmin=-1, vmax=1)\n",
    "plt.title('Correlation Matrix')\n",
    "plt.show()\n",
    "\n"
   ]
  },
  {
   "cell_type": "code",
   "execution_count": null,
   "id": "04866b13",
   "metadata": {},
   "outputs": [],
   "source": [
    "# Weekly averages\n",
    "data['week'] = data['date'].dt.isocalendar().week\n",
    "weekly_data = data.groupby('week').agg({\n",
    "    'new_cases': 'mean',\n",
    "    'new_deaths': 'mean',\n",
    "    'new_recoveries': 'mean'\n",
    "}).reset_index()\n",
    "\n",
    "# Plotting weekly averages\n",
    "plt.figure(figsize=(14, 7))\n",
    "\n"
   ]
  },
  {
   "cell_type": "code",
   "execution_count": null,
   "id": "533c2350",
   "metadata": {},
   "outputs": [],
   "source": [
    "# Weekly new cases\n",
    "plt.subplot(3, 1, 1)\n",
    "sns.lineplot(x='week', y='new_cases', data=weekly_data, color='blue')\n",
    "plt.title('Weekly Average New COVID-19 Cases')\n",
    "plt.xlabel('Week')\n",
    "plt.ylabel('Average New Cases')\n",
    "\n",
    "# Weekly new deaths\n",
    "plt.subplot(3, 1, 2)\n",
    "sns.lineplot(x='week', y='new_deaths', data=weekly_data, color='red')\n",
    "plt.title('Weekly Average New COVID-19 Deaths')\n",
    "plt.xlabel('Week')\n",
    "plt.ylabel('Average New Deaths')\n",
    "\n",
    "# Weekly new recoveries\n",
    "plt.subplot(3, 1, 3)\n",
    "sns.lineplot(x='week', y='new_recoveries', data=weekly_data, color='green')\n",
    "plt.title('Weekly Average New COVID-19 Recoveries')\n",
    "plt.xlabel('Week')\n",
    "plt.ylabel('Average New Recoveries')\n",
    "\n",
    "plt.tight_layout()\n",
    "plt.show()"
   ]
  }
 ],
 "metadata": {
  "kernelspec": {
   "display_name": "Python 3",
   "language": "python",
   "name": "python3"
  },
  "language_info": {
   "codemirror_mode": {
    "name": "ipython",
    "version": 3
   },
   "file_extension": ".py",
   "mimetype": "text/x-python",
   "name": "python",
   "nbconvert_exporter": "python",
   "pygments_lexer": "ipython3",
   "version": "3.6.4"
  }
 },
 "nbformat": 4,
 "nbformat_minor": 5
}
